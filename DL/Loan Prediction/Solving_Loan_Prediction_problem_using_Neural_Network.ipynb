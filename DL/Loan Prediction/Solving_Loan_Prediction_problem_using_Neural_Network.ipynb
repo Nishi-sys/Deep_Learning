{
  "nbformat": 4,
  "nbformat_minor": 0,
  "metadata": {
    "kernelspec": {
      "name": "python3",
      "display_name": "Python 3"
    },
    "language_info": {
      "codemirror_mode": {
        "name": "ipython",
        "version": 3
      },
      "file_extension": ".py",
      "mimetype": "text/x-python",
      "name": "python",
      "nbconvert_exporter": "python",
      "pygments_lexer": "ipython3",
      "version": "3.6.5"
    },
    "colab": {
      "provenance": [],
      "gpuType": "T4",
      "include_colab_link": true
    },
    "accelerator": "GPU"
  },
  "cells": [
    {
      "cell_type": "markdown",
      "metadata": {
        "id": "view-in-github",
        "colab_type": "text"
      },
      "source": [
        "<a href=\"https://colab.research.google.com/github/Nishi-sys/Deep_Learning/blob/main/DL/Loan%20Prediction/Solving_Loan_Prediction_problem_using_Neural_Network.ipynb\" target=\"_parent\"><img src=\"https://colab.research.google.com/assets/colab-badge.svg\" alt=\"Open In Colab\"/></a>"
      ]
    },
    {
      "cell_type": "code",
      "metadata": {
        "id": "N1174ZAOqvyo",
        "colab": {
          "base_uri": "https://localhost:8080/"
        },
        "outputId": "146bf47b-2a69-4cf4-eef1-d906badc6113"
      },
      "source": [
        "%tensorflow_version.x"
      ],
      "execution_count": 2,
      "outputs": [
        {
          "output_type": "stream",
          "name": "stderr",
          "text": [
            "UsageError: Line magic function `%tensorflow_version.x` not found.\n"
          ]
        }
      ]
    },
    {
      "cell_type": "markdown",
      "metadata": {
        "id": "WjKX7h16glKA"
      },
      "source": [
        "# Steps to build a Neural Network using Keras (#LCD,CTE)\n",
        "\n",
        "<ol>1. Loading the dataset</ol>\n",
        "<ol>2. Creating training and validation set</ol>\n",
        "<ol>3. Defining the architecture of the model</ol>\n",
        "<ol>4. Compiling the model (defining loss function, optimizer)</ol>\n",
        "<ol>5. Training the model</ol>\n",
        "<ol>6. Evaluating model performance on training and validation set</ol>"
      ]
    },
    {
      "cell_type": "markdown",
      "metadata": {
        "id": "56f3bnnIglKI"
      },
      "source": [
        "## 1. Loading the dataset\n",
        "\n",
        "---\n",
        "\n"
      ]
    },
    {
      "cell_type": "code",
      "metadata": {
        "id": "as3tljzfglKN"
      },
      "source": [
        "# importing the required libraries\n",
        "import pandas as pd\n",
        "import numpy as np\n",
        "import sklearn\n",
        "from sklearn.model_selection import train_test_split\n",
        "from sklearn.metrics import accuracy_score\n",
        "import matplotlib.pyplot as plt\n",
        "%matplotlib inline"
      ],
      "execution_count": 3,
      "outputs": []
    },
    {
      "cell_type": "code",
      "metadata": {
        "id": "Bzp09t1S_07z",
        "colab": {
          "base_uri": "https://localhost:8080/"
        },
        "outputId": "5f4d4ba6-5a49-4fa3-a107-b29c00f8aebf"
      },
      "source": [
        "# check version on sklearn\n",
        "print('Version of sklearn:', sklearn.__version__)"
      ],
      "execution_count": 4,
      "outputs": [
        {
          "output_type": "stream",
          "name": "stdout",
          "text": [
            "Version of sklearn: 1.2.2\n"
          ]
        }
      ]
    },
    {
      "cell_type": "code",
      "metadata": {
        "id": "UXQcz5rtglKe"
      },
      "source": [
        "# loading the pre-processed dataset\n",
        "data = pd.read_csv('loan_prediction_data.csv')"
      ],
      "execution_count": 14,
      "outputs": []
    },
    {
      "cell_type": "code",
      "metadata": {
        "scrolled": false,
        "id": "ntuq8jfzglKp",
        "colab": {
          "base_uri": "https://localhost:8080/",
          "height": 206
        },
        "outputId": "f97351d2-ef50-49db-e53b-ceb1cc32ef64"
      },
      "source": [
        "# looking at the first five rows of the dataset\n",
        "data.head()"
      ],
      "execution_count": 15,
      "outputs": [
        {
          "output_type": "execute_result",
          "data": {
            "text/plain": [
              "    Loan_ID  Gender  Married  Dependents  Education  Self_Employed  \\\n",
              "0  LP001002     0.0      0.0    0.000000        1.0            0.0   \n",
              "1  LP001003     0.0      1.0    0.333333        1.0            0.0   \n",
              "2  LP001005     0.0      1.0    0.000000        1.0            1.0   \n",
              "3  LP001006     0.0      1.0    0.000000        0.0            0.0   \n",
              "4  LP001008     0.0      0.0    0.000000        1.0            0.0   \n",
              "\n",
              "   ApplicantIncome  CoapplicantIncome  LoanAmount  Loan_Amount_Term  \\\n",
              "0         0.070489           0.000000    0.198860           0.74359   \n",
              "1         0.054830           0.036192    0.172214           0.74359   \n",
              "2         0.035250           0.000000    0.082489           0.74359   \n",
              "3         0.030093           0.056592    0.160637           0.74359   \n",
              "4         0.072356           0.000000    0.191027           0.74359   \n",
              "\n",
              "   Credit_History  Property_Area  Loan_Status  \n",
              "0             1.0            1.0          1.0  \n",
              "1             1.0            0.0          0.0  \n",
              "2             1.0            1.0          1.0  \n",
              "3             1.0            1.0          1.0  \n",
              "4             1.0            1.0          1.0  "
            ],
            "text/html": [
              "\n",
              "  <div id=\"df-bfdf93d4-647d-4124-8498-8acea5ce50d6\" class=\"colab-df-container\">\n",
              "    <div>\n",
              "<style scoped>\n",
              "    .dataframe tbody tr th:only-of-type {\n",
              "        vertical-align: middle;\n",
              "    }\n",
              "\n",
              "    .dataframe tbody tr th {\n",
              "        vertical-align: top;\n",
              "    }\n",
              "\n",
              "    .dataframe thead th {\n",
              "        text-align: right;\n",
              "    }\n",
              "</style>\n",
              "<table border=\"1\" class=\"dataframe\">\n",
              "  <thead>\n",
              "    <tr style=\"text-align: right;\">\n",
              "      <th></th>\n",
              "      <th>Loan_ID</th>\n",
              "      <th>Gender</th>\n",
              "      <th>Married</th>\n",
              "      <th>Dependents</th>\n",
              "      <th>Education</th>\n",
              "      <th>Self_Employed</th>\n",
              "      <th>ApplicantIncome</th>\n",
              "      <th>CoapplicantIncome</th>\n",
              "      <th>LoanAmount</th>\n",
              "      <th>Loan_Amount_Term</th>\n",
              "      <th>Credit_History</th>\n",
              "      <th>Property_Area</th>\n",
              "      <th>Loan_Status</th>\n",
              "    </tr>\n",
              "  </thead>\n",
              "  <tbody>\n",
              "    <tr>\n",
              "      <th>0</th>\n",
              "      <td>LP001002</td>\n",
              "      <td>0.0</td>\n",
              "      <td>0.0</td>\n",
              "      <td>0.000000</td>\n",
              "      <td>1.0</td>\n",
              "      <td>0.0</td>\n",
              "      <td>0.070489</td>\n",
              "      <td>0.000000</td>\n",
              "      <td>0.198860</td>\n",
              "      <td>0.74359</td>\n",
              "      <td>1.0</td>\n",
              "      <td>1.0</td>\n",
              "      <td>1.0</td>\n",
              "    </tr>\n",
              "    <tr>\n",
              "      <th>1</th>\n",
              "      <td>LP001003</td>\n",
              "      <td>0.0</td>\n",
              "      <td>1.0</td>\n",
              "      <td>0.333333</td>\n",
              "      <td>1.0</td>\n",
              "      <td>0.0</td>\n",
              "      <td>0.054830</td>\n",
              "      <td>0.036192</td>\n",
              "      <td>0.172214</td>\n",
              "      <td>0.74359</td>\n",
              "      <td>1.0</td>\n",
              "      <td>0.0</td>\n",
              "      <td>0.0</td>\n",
              "    </tr>\n",
              "    <tr>\n",
              "      <th>2</th>\n",
              "      <td>LP001005</td>\n",
              "      <td>0.0</td>\n",
              "      <td>1.0</td>\n",
              "      <td>0.000000</td>\n",
              "      <td>1.0</td>\n",
              "      <td>1.0</td>\n",
              "      <td>0.035250</td>\n",
              "      <td>0.000000</td>\n",
              "      <td>0.082489</td>\n",
              "      <td>0.74359</td>\n",
              "      <td>1.0</td>\n",
              "      <td>1.0</td>\n",
              "      <td>1.0</td>\n",
              "    </tr>\n",
              "    <tr>\n",
              "      <th>3</th>\n",
              "      <td>LP001006</td>\n",
              "      <td>0.0</td>\n",
              "      <td>1.0</td>\n",
              "      <td>0.000000</td>\n",
              "      <td>0.0</td>\n",
              "      <td>0.0</td>\n",
              "      <td>0.030093</td>\n",
              "      <td>0.056592</td>\n",
              "      <td>0.160637</td>\n",
              "      <td>0.74359</td>\n",
              "      <td>1.0</td>\n",
              "      <td>1.0</td>\n",
              "      <td>1.0</td>\n",
              "    </tr>\n",
              "    <tr>\n",
              "      <th>4</th>\n",
              "      <td>LP001008</td>\n",
              "      <td>0.0</td>\n",
              "      <td>0.0</td>\n",
              "      <td>0.000000</td>\n",
              "      <td>1.0</td>\n",
              "      <td>0.0</td>\n",
              "      <td>0.072356</td>\n",
              "      <td>0.000000</td>\n",
              "      <td>0.191027</td>\n",
              "      <td>0.74359</td>\n",
              "      <td>1.0</td>\n",
              "      <td>1.0</td>\n",
              "      <td>1.0</td>\n",
              "    </tr>\n",
              "  </tbody>\n",
              "</table>\n",
              "</div>\n",
              "    <div class=\"colab-df-buttons\">\n",
              "\n",
              "  <div class=\"colab-df-container\">\n",
              "    <button class=\"colab-df-convert\" onclick=\"convertToInteractive('df-bfdf93d4-647d-4124-8498-8acea5ce50d6')\"\n",
              "            title=\"Convert this dataframe to an interactive table.\"\n",
              "            style=\"display:none;\">\n",
              "\n",
              "  <svg xmlns=\"http://www.w3.org/2000/svg\" height=\"24px\" viewBox=\"0 -960 960 960\">\n",
              "    <path d=\"M120-120v-720h720v720H120Zm60-500h600v-160H180v160Zm220 220h160v-160H400v160Zm0 220h160v-160H400v160ZM180-400h160v-160H180v160Zm440 0h160v-160H620v160ZM180-180h160v-160H180v160Zm440 0h160v-160H620v160Z\"/>\n",
              "  </svg>\n",
              "    </button>\n",
              "\n",
              "  <style>\n",
              "    .colab-df-container {\n",
              "      display:flex;\n",
              "      gap: 12px;\n",
              "    }\n",
              "\n",
              "    .colab-df-convert {\n",
              "      background-color: #E8F0FE;\n",
              "      border: none;\n",
              "      border-radius: 50%;\n",
              "      cursor: pointer;\n",
              "      display: none;\n",
              "      fill: #1967D2;\n",
              "      height: 32px;\n",
              "      padding: 0 0 0 0;\n",
              "      width: 32px;\n",
              "    }\n",
              "\n",
              "    .colab-df-convert:hover {\n",
              "      background-color: #E2EBFA;\n",
              "      box-shadow: 0px 1px 2px rgba(60, 64, 67, 0.3), 0px 1px 3px 1px rgba(60, 64, 67, 0.15);\n",
              "      fill: #174EA6;\n",
              "    }\n",
              "\n",
              "    .colab-df-buttons div {\n",
              "      margin-bottom: 4px;\n",
              "    }\n",
              "\n",
              "    [theme=dark] .colab-df-convert {\n",
              "      background-color: #3B4455;\n",
              "      fill: #D2E3FC;\n",
              "    }\n",
              "\n",
              "    [theme=dark] .colab-df-convert:hover {\n",
              "      background-color: #434B5C;\n",
              "      box-shadow: 0px 1px 3px 1px rgba(0, 0, 0, 0.15);\n",
              "      filter: drop-shadow(0px 1px 2px rgba(0, 0, 0, 0.3));\n",
              "      fill: #FFFFFF;\n",
              "    }\n",
              "  </style>\n",
              "\n",
              "    <script>\n",
              "      const buttonEl =\n",
              "        document.querySelector('#df-bfdf93d4-647d-4124-8498-8acea5ce50d6 button.colab-df-convert');\n",
              "      buttonEl.style.display =\n",
              "        google.colab.kernel.accessAllowed ? 'block' : 'none';\n",
              "\n",
              "      async function convertToInteractive(key) {\n",
              "        const element = document.querySelector('#df-bfdf93d4-647d-4124-8498-8acea5ce50d6');\n",
              "        const dataTable =\n",
              "          await google.colab.kernel.invokeFunction('convertToInteractive',\n",
              "                                                    [key], {});\n",
              "        if (!dataTable) return;\n",
              "\n",
              "        const docLinkHtml = 'Like what you see? Visit the ' +\n",
              "          '<a target=\"_blank\" href=https://colab.research.google.com/notebooks/data_table.ipynb>data table notebook</a>'\n",
              "          + ' to learn more about interactive tables.';\n",
              "        element.innerHTML = '';\n",
              "        dataTable['output_type'] = 'display_data';\n",
              "        await google.colab.output.renderOutput(dataTable, element);\n",
              "        const docLink = document.createElement('div');\n",
              "        docLink.innerHTML = docLinkHtml;\n",
              "        element.appendChild(docLink);\n",
              "      }\n",
              "    </script>\n",
              "  </div>\n",
              "\n",
              "\n",
              "<div id=\"df-1ecffb1a-969e-4fe2-9537-e9fd7e69d534\">\n",
              "  <button class=\"colab-df-quickchart\" onclick=\"quickchart('df-1ecffb1a-969e-4fe2-9537-e9fd7e69d534')\"\n",
              "            title=\"Suggest charts\"\n",
              "            style=\"display:none;\">\n",
              "\n",
              "<svg xmlns=\"http://www.w3.org/2000/svg\" height=\"24px\"viewBox=\"0 0 24 24\"\n",
              "     width=\"24px\">\n",
              "    <g>\n",
              "        <path d=\"M19 3H5c-1.1 0-2 .9-2 2v14c0 1.1.9 2 2 2h14c1.1 0 2-.9 2-2V5c0-1.1-.9-2-2-2zM9 17H7v-7h2v7zm4 0h-2V7h2v10zm4 0h-2v-4h2v4z\"/>\n",
              "    </g>\n",
              "</svg>\n",
              "  </button>\n",
              "\n",
              "<style>\n",
              "  .colab-df-quickchart {\n",
              "      --bg-color: #E8F0FE;\n",
              "      --fill-color: #1967D2;\n",
              "      --hover-bg-color: #E2EBFA;\n",
              "      --hover-fill-color: #174EA6;\n",
              "      --disabled-fill-color: #AAA;\n",
              "      --disabled-bg-color: #DDD;\n",
              "  }\n",
              "\n",
              "  [theme=dark] .colab-df-quickchart {\n",
              "      --bg-color: #3B4455;\n",
              "      --fill-color: #D2E3FC;\n",
              "      --hover-bg-color: #434B5C;\n",
              "      --hover-fill-color: #FFFFFF;\n",
              "      --disabled-bg-color: #3B4455;\n",
              "      --disabled-fill-color: #666;\n",
              "  }\n",
              "\n",
              "  .colab-df-quickchart {\n",
              "    background-color: var(--bg-color);\n",
              "    border: none;\n",
              "    border-radius: 50%;\n",
              "    cursor: pointer;\n",
              "    display: none;\n",
              "    fill: var(--fill-color);\n",
              "    height: 32px;\n",
              "    padding: 0;\n",
              "    width: 32px;\n",
              "  }\n",
              "\n",
              "  .colab-df-quickchart:hover {\n",
              "    background-color: var(--hover-bg-color);\n",
              "    box-shadow: 0 1px 2px rgba(60, 64, 67, 0.3), 0 1px 3px 1px rgba(60, 64, 67, 0.15);\n",
              "    fill: var(--button-hover-fill-color);\n",
              "  }\n",
              "\n",
              "  .colab-df-quickchart-complete:disabled,\n",
              "  .colab-df-quickchart-complete:disabled:hover {\n",
              "    background-color: var(--disabled-bg-color);\n",
              "    fill: var(--disabled-fill-color);\n",
              "    box-shadow: none;\n",
              "  }\n",
              "\n",
              "  .colab-df-spinner {\n",
              "    border: 2px solid var(--fill-color);\n",
              "    border-color: transparent;\n",
              "    border-bottom-color: var(--fill-color);\n",
              "    animation:\n",
              "      spin 1s steps(1) infinite;\n",
              "  }\n",
              "\n",
              "  @keyframes spin {\n",
              "    0% {\n",
              "      border-color: transparent;\n",
              "      border-bottom-color: var(--fill-color);\n",
              "      border-left-color: var(--fill-color);\n",
              "    }\n",
              "    20% {\n",
              "      border-color: transparent;\n",
              "      border-left-color: var(--fill-color);\n",
              "      border-top-color: var(--fill-color);\n",
              "    }\n",
              "    30% {\n",
              "      border-color: transparent;\n",
              "      border-left-color: var(--fill-color);\n",
              "      border-top-color: var(--fill-color);\n",
              "      border-right-color: var(--fill-color);\n",
              "    }\n",
              "    40% {\n",
              "      border-color: transparent;\n",
              "      border-right-color: var(--fill-color);\n",
              "      border-top-color: var(--fill-color);\n",
              "    }\n",
              "    60% {\n",
              "      border-color: transparent;\n",
              "      border-right-color: var(--fill-color);\n",
              "    }\n",
              "    80% {\n",
              "      border-color: transparent;\n",
              "      border-right-color: var(--fill-color);\n",
              "      border-bottom-color: var(--fill-color);\n",
              "    }\n",
              "    90% {\n",
              "      border-color: transparent;\n",
              "      border-bottom-color: var(--fill-color);\n",
              "    }\n",
              "  }\n",
              "</style>\n",
              "\n",
              "  <script>\n",
              "    async function quickchart(key) {\n",
              "      const quickchartButtonEl =\n",
              "        document.querySelector('#' + key + ' button');\n",
              "      quickchartButtonEl.disabled = true;  // To prevent multiple clicks.\n",
              "      quickchartButtonEl.classList.add('colab-df-spinner');\n",
              "      try {\n",
              "        const charts = await google.colab.kernel.invokeFunction(\n",
              "            'suggestCharts', [key], {});\n",
              "      } catch (error) {\n",
              "        console.error('Error during call to suggestCharts:', error);\n",
              "      }\n",
              "      quickchartButtonEl.classList.remove('colab-df-spinner');\n",
              "      quickchartButtonEl.classList.add('colab-df-quickchart-complete');\n",
              "    }\n",
              "    (() => {\n",
              "      let quickchartButtonEl =\n",
              "        document.querySelector('#df-1ecffb1a-969e-4fe2-9537-e9fd7e69d534 button');\n",
              "      quickchartButtonEl.style.display =\n",
              "        google.colab.kernel.accessAllowed ? 'block' : 'none';\n",
              "    })();\n",
              "  </script>\n",
              "</div>\n",
              "\n",
              "    </div>\n",
              "  </div>\n"
            ],
            "application/vnd.google.colaboratory.intrinsic+json": {
              "type": "dataframe",
              "variable_name": "data",
              "summary": "{\n  \"name\": \"data\",\n  \"rows\": 614,\n  \"fields\": [\n    {\n      \"column\": \"Loan_ID\",\n      \"properties\": {\n        \"dtype\": \"string\",\n        \"num_unique_values\": 614,\n        \"samples\": [\n          \"LP002139\",\n          \"LP002223\",\n          \"LP001570\"\n        ],\n        \"semantic_type\": \"\",\n        \"description\": \"\"\n      }\n    },\n    {\n      \"column\": \"Gender\",\n      \"properties\": {\n        \"dtype\": \"number\",\n        \"std\": 0.38649728461761046,\n        \"min\": 0.0,\n        \"max\": 1.0,\n        \"num_unique_values\": 2,\n        \"samples\": [\n          1.0,\n          0.0\n        ],\n        \"semantic_type\": \"\",\n        \"description\": \"\"\n      }\n    },\n    {\n      \"column\": \"Married\",\n      \"properties\": {\n        \"dtype\": \"number\",\n        \"std\": 0.47637346810166864,\n        \"min\": 0.0,\n        \"max\": 1.0,\n        \"num_unique_values\": 2,\n        \"samples\": [\n          1.0,\n          0.0\n        ],\n        \"semantic_type\": \"\",\n        \"description\": \"\"\n      }\n    },\n    {\n      \"column\": \"Dependents\",\n      \"properties\": {\n        \"dtype\": \"number\",\n        \"std\": 0.33654113081155484,\n        \"min\": 0.0,\n        \"max\": 1.0,\n        \"num_unique_values\": 4,\n        \"samples\": [\n          0.3333333333333333,\n          1.0\n        ],\n        \"semantic_type\": \"\",\n        \"description\": \"\"\n      }\n    },\n    {\n      \"column\": \"Education\",\n      \"properties\": {\n        \"dtype\": \"number\",\n        \"std\": 0.4133886943339805,\n        \"min\": 0.0,\n        \"max\": 1.0,\n        \"num_unique_values\": 2,\n        \"samples\": [\n          0.0,\n          1.0\n        ],\n        \"semantic_type\": \"\",\n        \"description\": \"\"\n      }\n    },\n    {\n      \"column\": \"Self_Employed\",\n      \"properties\": {\n        \"dtype\": \"number\",\n        \"std\": 0.3404460655491334,\n        \"min\": 0.0,\n        \"max\": 1.0,\n        \"num_unique_values\": 2,\n        \"samples\": [\n          1.0,\n          0.0\n        ],\n        \"semantic_type\": \"\",\n        \"description\": \"\"\n      }\n    },\n    {\n      \"column\": \"ApplicantIncome\",\n      \"properties\": {\n        \"dtype\": \"number\",\n        \"std\": 0.07556019385760271,\n        \"min\": 0.0,\n        \"max\": 1.0,\n        \"num_unique_values\": 505,\n        \"samples\": [\n          0.1012121212121212,\n          0.0518491032776747\n        ],\n        \"semantic_type\": \"\",\n        \"description\": \"\"\n      }\n    },\n    {\n      \"column\": \"CoapplicantIncome\",\n      \"properties\": {\n        \"dtype\": \"number\",\n        \"std\": 0.0702293990261883,\n        \"min\": 0.0,\n        \"max\": 1.0,\n        \"num_unique_values\": 287,\n        \"samples\": [\n          0.0441596467228262,\n          0.0490076079391364\n        ],\n        \"semantic_type\": \"\",\n        \"description\": \"\"\n      }\n    },\n    {\n      \"column\": \"LoanAmount\",\n      \"properties\": {\n        \"dtype\": \"number\",\n        \"std\": 0.12161717465006727,\n        \"min\": 0.0,\n        \"max\": 1.0,\n        \"num_unique_values\": 204,\n        \"samples\": [\n          0.1678726483357453,\n          0.492040520984081\n        ],\n        \"semantic_type\": \"\",\n        \"description\": \"\"\n      }\n    },\n    {\n      \"column\": \"Loan_Amount_Term\",\n      \"properties\": {\n        \"dtype\": \"number\",\n        \"std\": 0.13766801082836128,\n        \"min\": 0.0,\n        \"max\": 1.0,\n        \"num_unique_values\": 10,\n        \"samples\": [\n          0.1538461538461538,\n          0.2307692307692307\n        ],\n        \"semantic_type\": \"\",\n        \"description\": \"\"\n      }\n    },\n    {\n      \"column\": \"Credit_History\",\n      \"properties\": {\n        \"dtype\": \"number\",\n        \"std\": 0.3523386063582998,\n        \"min\": 0.0,\n        \"max\": 1.0,\n        \"num_unique_values\": 2,\n        \"samples\": [\n          0.0,\n          1.0\n        ],\n        \"semantic_type\": \"\",\n        \"description\": \"\"\n      }\n    },\n    {\n      \"column\": \"Property_Area\",\n      \"properties\": {\n        \"dtype\": \"number\",\n        \"std\": 0.39374101739259926,\n        \"min\": 0.0,\n        \"max\": 1.0,\n        \"num_unique_values\": 3,\n        \"samples\": [\n          1.0,\n          0.0\n        ],\n        \"semantic_type\": \"\",\n        \"description\": \"\"\n      }\n    },\n    {\n      \"column\": \"Loan_Status\",\n      \"properties\": {\n        \"dtype\": \"number\",\n        \"std\": 0.46397268871800085,\n        \"min\": 0.0,\n        \"max\": 1.0,\n        \"num_unique_values\": 2,\n        \"samples\": [\n          0.0,\n          1.0\n        ],\n        \"semantic_type\": \"\",\n        \"description\": \"\"\n      }\n    }\n  ]\n}"
            }
          },
          "metadata": {},
          "execution_count": 15
        }
      ]
    },
    {
      "cell_type": "code",
      "metadata": {
        "id": "2iqbEhkaglK0",
        "colab": {
          "base_uri": "https://localhost:8080/"
        },
        "outputId": "a628acd2-8088-470e-fe50-4302e44edaf4"
      },
      "source": [
        "# checking missing values\n",
        "data.isnull().sum()"
      ],
      "execution_count": 17,
      "outputs": [
        {
          "output_type": "execute_result",
          "data": {
            "text/plain": [
              "Loan_ID              0\n",
              "Gender               0\n",
              "Married              0\n",
              "Dependents           0\n",
              "Education            0\n",
              "Self_Employed        0\n",
              "ApplicantIncome      0\n",
              "CoapplicantIncome    0\n",
              "LoanAmount           0\n",
              "Loan_Amount_Term     0\n",
              "Credit_History       0\n",
              "Property_Area        0\n",
              "Loan_Status          0\n",
              "dtype: int64"
            ]
          },
          "metadata": {},
          "execution_count": 17
        }
      ]
    },
    {
      "cell_type": "code",
      "metadata": {
        "id": "QOnBYzGnglK-",
        "colab": {
          "base_uri": "https://localhost:8080/"
        },
        "outputId": "1a08e9c2-d8fe-457f-ed5d-edce585aec75"
      },
      "source": [
        "# checking the data type\n",
        "data.dtypes"
      ],
      "execution_count": 18,
      "outputs": [
        {
          "output_type": "execute_result",
          "data": {
            "text/plain": [
              "Loan_ID               object\n",
              "Gender               float64\n",
              "Married              float64\n",
              "Dependents           float64\n",
              "Education            float64\n",
              "Self_Employed        float64\n",
              "ApplicantIncome      float64\n",
              "CoapplicantIncome    float64\n",
              "LoanAmount           float64\n",
              "Loan_Amount_Term     float64\n",
              "Credit_History       float64\n",
              "Property_Area        float64\n",
              "Loan_Status          float64\n",
              "dtype: object"
            ]
          },
          "metadata": {},
          "execution_count": 18
        }
      ]
    },
    {
      "cell_type": "code",
      "metadata": {
        "id": "TYuwXXuNglLI"
      },
      "source": [
        "# removing the loan_ID since these are just the unique and serve as keys in DB\n",
        "data = data.drop('Loan_ID', axis=1) #axis=0 ['Loan_ID'] not found in axis\""
      ],
      "execution_count": 19,
      "outputs": []
    },
    {
      "cell_type": "code",
      "metadata": {
        "id": "r7XkDkLqglLQ",
        "colab": {
          "base_uri": "https://localhost:8080/"
        },
        "outputId": "1f527f2f-2b0c-431d-8403-4a6deaec2399"
      },
      "source": [
        "# looking at the shape of the data\n",
        "data.shape"
      ],
      "execution_count": 20,
      "outputs": [
        {
          "output_type": "execute_result",
          "data": {
            "text/plain": [
              "(614, 12)"
            ]
          },
          "metadata": {},
          "execution_count": 20
        }
      ]
    },
    {
      "cell_type": "code",
      "metadata": {
        "id": "wy5U75eiglLZ"
      },
      "source": [
        "# separating the independent and dependent variables\n",
        "\n",
        "# Storing all the independent variables as X\n",
        "X = data.drop('Loan_Status', axis=1)\n",
        "\n",
        "# Storing the dependent variable as y\n",
        "y = data['Loan_Status']"
      ],
      "execution_count": 21,
      "outputs": []
    },
    {
      "cell_type": "code",
      "metadata": {
        "scrolled": true,
        "id": "73Z_cXPVglLi",
        "colab": {
          "base_uri": "https://localhost:8080/"
        },
        "outputId": "118478fc-fc39-4b0e-a526-31e5e5362243"
      },
      "source": [
        "# shape of independent and dependent variables\n",
        "X.shape, y.shape"
      ],
      "execution_count": 22,
      "outputs": [
        {
          "output_type": "execute_result",
          "data": {
            "text/plain": [
              "((614, 11), (614,))"
            ]
          },
          "metadata": {},
          "execution_count": 22
        }
      ]
    },
    {
      "cell_type": "markdown",
      "metadata": {
        "id": "2tIAIoEZglLr"
      },
      "source": [
        "## 2. Creating training and validation set\n",
        "\n",
        "---\n",
        "\n"
      ]
    },
    {
      "cell_type": "code",
      "metadata": {
        "id": "4jvMxwYZglLu"
      },
      "source": [
        "# Creating training and validation set\n",
        "\n",
        "# X:input, X_train: on which input model will be trained using y_train.\n",
        "# X_test: Set of inputs on which the model(model created using X_train, y_train) will be tested. So these generates an ouput from X_test: Y\n",
        "# So, then Y(output from X_test) is comapred with actual output of X_test i.e. y_test\n",
        "\n",
        "# stratify(on the o/p feature) will make sure that the distribution of classes in train and validation set it similar\n",
        "# random state to regenerate the same train and validation set\n",
        "# test size 0.2 will keep 20% data in validation and remaining 80% in train set\n",
        "#X_train, X_trest, y_train, y_test\n",
        "\n",
        "X_train,X_test,y_train,y_test = train_test_split(X,y,stratify=data['Loan_Status'],random_state=10,test_size=0.2)"
      ],
      "execution_count": 23,
      "outputs": []
    },
    {
      "cell_type": "code",
      "metadata": {
        "id": "3HG0SIb2glL3",
        "colab": {
          "base_uri": "https://localhost:8080/"
        },
        "outputId": "936bb898-7c68-4445-d47f-7fd785adaeac"
      },
      "source": [
        "# shape of training and validation set\n",
        "(X_train.shape, y_train.shape), (X_test.shape, y_test.shape)"
      ],
      "execution_count": 24,
      "outputs": [
        {
          "output_type": "execute_result",
          "data": {
            "text/plain": [
              "(((491, 11), (491,)), ((123, 11), (123,)))"
            ]
          },
          "metadata": {},
          "execution_count": 24
        }
      ]
    },
    {
      "cell_type": "markdown",
      "metadata": {
        "id": "e9PNy3T1glL_"
      },
      "source": [
        "## 3. Defining the architecture of the model\n",
        "\n",
        "---\n",
        "\n"
      ]
    },
    {
      "cell_type": "code",
      "metadata": {
        "scrolled": true,
        "id": "IsccfqUYglMC",
        "colab": {
          "base_uri": "https://localhost:8080/"
        },
        "outputId": "6adeabf3-1f78-4f98-b220-7e14c8d43358"
      },
      "source": [
        "# checking the version of keras\n",
        "import keras\n",
        "print(keras.__version__)\n",
        "# importing the sequential model\n",
        "from keras.models import Sequential"
      ],
      "execution_count": 27,
      "outputs": [
        {
          "output_type": "stream",
          "name": "stdout",
          "text": [
            "2.15.0\n"
          ]
        }
      ]
    },
    {
      "cell_type": "code",
      "metadata": {
        "id": "XMLvwm5wglMK",
        "colab": {
          "base_uri": "https://localhost:8080/"
        },
        "outputId": "b8354b43-46dc-4db7-f36d-fd1dced355b6"
      },
      "source": [
        "# checking the version of tensorflow\n",
        "import tensorflow as tf\n",
        "print(tf.__version__)"
      ],
      "execution_count": 26,
      "outputs": [
        {
          "output_type": "stream",
          "name": "stdout",
          "text": [
            "2.15.0\n"
          ]
        }
      ]
    },
    {
      "cell_type": "markdown",
      "metadata": {
        "id": "LbHAzzxZglMR"
      },
      "source": [
        "### a. Create a model\n",
        "\n",
        "<img src='https://drive.google.com/uc?id=1iZNZ3kwSHRNf-Irn3DZmMuBb6K-Lro7w'>"
      ]
    },
    {
      "cell_type": "markdown",
      "metadata": {
        "id": "q6SQ3N1NglMZ"
      },
      "source": [
        "### b. Defining different layers\n",
        "\n"
      ]
    },
    {
      "cell_type": "code",
      "metadata": {
        "scrolled": true,
        "id": "NDU-YCD0glMb"
      },
      "source": [
        "# importing different layers from keras\n",
        "from keras.layers import InputLayer, Dense"
      ],
      "execution_count": 28,
      "outputs": []
    },
    {
      "cell_type": "markdown",
      "metadata": {
        "id": "c1I4EF-9glMj"
      },
      "source": [
        "<img src='https://drive.google.com/uc?id=1tsy4B6G0UN4-J4L4roOdoWQiZMUdgw2a'>"
      ]
    },
    {
      "cell_type": "markdown",
      "source": [
        "![image.png](data:image/png;base64,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)"
      ],
      "metadata": {
        "id": "HIhvvs44fde6"
      }
    },
    {
      "cell_type": "code",
      "metadata": {
        "id": "xtOwk66BglMl",
        "colab": {
          "base_uri": "https://localhost:8080/"
        },
        "outputId": "30a20064-b3ce-47aa-aa3f-3a0e455b865a"
      },
      "source": [
        "# number of input neurons\n",
        "X_train.shape"
      ],
      "execution_count": 29,
      "outputs": [
        {
          "output_type": "execute_result",
          "data": {
            "text/plain": [
              "(491, 11)"
            ]
          },
          "metadata": {},
          "execution_count": 29
        }
      ]
    },
    {
      "cell_type": "code",
      "metadata": {
        "scrolled": true,
        "id": "dA2TqMbsglMq",
        "colab": {
          "base_uri": "https://localhost:8080/"
        },
        "outputId": "0dbe4905-dc61-4a7b-a24a-736e0faa1ef9"
      },
      "source": [
        "# number of features in the data\n",
        "X_train.shape[1]"
      ],
      "execution_count": 30,
      "outputs": [
        {
          "output_type": "execute_result",
          "data": {
            "text/plain": [
              "11"
            ]
          },
          "metadata": {},
          "execution_count": 30
        }
      ]
    },
    {
      "cell_type": "code",
      "metadata": {
        "id": "ajgIDiLSglMx"
      },
      "source": [
        "# defining input neurons = no. of input features\n",
        "input_neurons = X_train.shape[1]"
      ],
      "execution_count": 31,
      "outputs": []
    },
    {
      "cell_type": "code",
      "metadata": {
        "id": "fu76LxuVglM6"
      },
      "source": [
        "# number of output neurons\n",
        "# since loan prediction is a binary classification problem, we will have single neuron in the output layer\n",
        "# define number of output neurons\n",
        "\n",
        "output_neurons = 1"
      ],
      "execution_count": 32,
      "outputs": []
    },
    {
      "cell_type": "code",
      "metadata": {
        "id": "cHsm2c7kglNF"
      },
      "source": [
        "# number of hidden layers and hidden neurons\n",
        "# It is a hyperparameter and we can pick the hidden layers and hidden neurons on our own\n",
        "# define hidden layers and neuron in each layer\n",
        "\n",
        "number_of_hidden_layers = 2\n",
        "neuron_hidden_layer_1 = 10\n",
        "neuron_hidden_layer_2 = 5"
      ],
      "execution_count": 33,
      "outputs": []
    },
    {
      "cell_type": "code",
      "metadata": {
        "id": "HKTCB3K1glNQ"
      },
      "source": [
        "# for now I have picked relu as an activation function for 2 hidden layers\n",
        "# since it is a binary classification problem, used sigmoid activation function in the final layer"
      ],
      "execution_count": null,
      "outputs": []
    },
    {
      "cell_type": "code",
      "metadata": {
        "id": "lJeV8sQyq1rj"
      },
      "source": [
        "# defining the architecture of the model   #Dense(units=#neuron_hidden_layerORoutput, activation)\n",
        "from keras.models import Sequential\n",
        "model = Sequential()\n",
        "model.add(InputLayer(input_shape=(input_neurons,)))\n",
        "model.add(Dense(units=neuron_hidden_layer_1, activation='relu'))\n",
        "model.add(Dense(units=neuron_hidden_layer_2, activation='relu'))\n",
        "model.add(Dense(units=output_neurons, activation='sigmoid'))"
      ],
      "execution_count": 34,
      "outputs": []
    },
    {
      "cell_type": "markdown",
      "source": [
        "![image.png](data:image/png;base64,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)"
      ],
      "metadata": {
        "id": "FkUzE4FkgZTj"
      }
    },
    {
      "cell_type": "code",
      "metadata": {
        "id": "E9tXg_08q3n0",
        "outputId": "7c23b068-f4ce-48c6-e5d1-7d42ccb91d8b",
        "colab": {
          "base_uri": "https://localhost:8080/"
        }
      },
      "source": [
        "# summary of the model\n",
        "model.summary()      # X = 11(no. of input features) x N(no. of observations i.e. no. of rows in the input dataset)\n",
        "#w_ih:Shape of w_ih: no. of neurons in input layer(features) x number of neurons at hidden layer : 11 x 10 = 110 --> W_ih.T x X = (11 x 10).T x (11 x N) --> 10 x N\n",
        "\n"
      ],
      "execution_count": 35,
      "outputs": [
        {
          "output_type": "stream",
          "name": "stdout",
          "text": [
            "Model: \"sequential\"\n",
            "_________________________________________________________________\n",
            " Layer (type)                Output Shape              Param #   \n",
            "=================================================================\n",
            " dense (Dense)               (None, 10)                120       \n",
            "                                                                 \n",
            " dense_1 (Dense)             (None, 5)                 55        \n",
            "                                                                 \n",
            " dense_2 (Dense)             (None, 1)                 6         \n",
            "                                                                 \n",
            "=================================================================\n",
            "Total params: 181 (724.00 Byte)\n",
            "Trainable params: 181 (724.00 Byte)\n",
            "Non-trainable params: 0 (0.00 Byte)\n",
            "_________________________________________________________________\n"
          ]
        }
      ]
    },
    {
      "cell_type": "code",
      "metadata": {
        "id": "PnsVNEbZglNf",
        "outputId": "14ffe0a5-854e-4bc5-f8b7-206cb436b80b",
        "colab": {
          "base_uri": "https://localhost:8080/"
        }
      },
      "source": [
        "# number of parameters between input and first hidden layer\n",
        "\n",
        "\n",
        "input_neurons*neuron_hidden_layer_1"
      ],
      "execution_count": 36,
      "outputs": [
        {
          "output_type": "execute_result",
          "data": {
            "text/plain": [
              "110"
            ]
          },
          "metadata": {},
          "execution_count": 36
        }
      ]
    },
    {
      "cell_type": "code",
      "metadata": {
        "scrolled": true,
        "id": "npisFmvIglNl",
        "outputId": "42eecedd-74c8-40e9-ee8b-8fbb74b94bb4",
        "colab": {
          "base_uri": "https://localhost:8080/"
        }
      },
      "source": [
        "# number of parameters between input and first hidden layer\n",
        "# adding the bias for each neuron of first hidden layer\n",
        "\n",
        "input_neurons*neuron_hidden_layer_1 + 10"
      ],
      "execution_count": 37,
      "outputs": [
        {
          "output_type": "execute_result",
          "data": {
            "text/plain": [
              "120"
            ]
          },
          "metadata": {},
          "execution_count": 37
        }
      ]
    },
    {
      "cell_type": "code",
      "metadata": {
        "id": "j37Xpr-8glNq",
        "outputId": "c4736ea4-7e52-4de6-9d09-51c075033efc",
        "colab": {
          "base_uri": "https://localhost:8080/"
        }
      },
      "source": [
        "# number of parameters between first and second hidden layer\n",
        "\n",
        "neuron_hidden_layer_1*neuron_hidden_layer_2 + 5"
      ],
      "execution_count": 38,
      "outputs": [
        {
          "output_type": "execute_result",
          "data": {
            "text/plain": [
              "55"
            ]
          },
          "metadata": {},
          "execution_count": 38
        }
      ]
    },
    {
      "cell_type": "code",
      "metadata": {
        "id": "UXrvaFnXglNu",
        "outputId": "941d2814-a480-42bd-c63c-a0f166356995",
        "colab": {
          "base_uri": "https://localhost:8080/"
        }
      },
      "source": [
        "# number of parameters between second hidden and output layer\n",
        "\n",
        "neuron_hidden_layer_2*output_neurons + 1"
      ],
      "execution_count": 39,
      "outputs": [
        {
          "output_type": "execute_result",
          "data": {
            "text/plain": [
              "6"
            ]
          },
          "metadata": {},
          "execution_count": 39
        }
      ]
    },
    {
      "cell_type": "markdown",
      "metadata": {
        "id": "xm1bbbE_glNz"
      },
      "source": [
        "## 4. Compiling the model (defining loss function, optimizer)\n",
        "\n",
        "---\n",
        "\n"
      ]
    },
    {
      "cell_type": "code",
      "metadata": {
        "id": "P6hqkDWIglN0"
      },
      "source": [
        "# compiling the model #model.compile(l,o,m)\n",
        "\n",
        "# loss as binary_crossentropy, since we have binary classification problem\n",
        "# defining the optimizer as adam\n",
        "# Evaluation metric as accuracy\n",
        "\n",
        "model.compile(loss='binary_crossentropy',optimizer='Adam',metrics=['accuracy'])"
      ],
      "execution_count": 40,
      "outputs": []
    },
    {
      "cell_type": "markdown",
      "metadata": {
        "id": "T1oVMpRMglN5"
      },
      "source": [
        "## 5. Training the model\n",
        "\n",
        "---\n",
        "\n"
      ]
    },
    {
      "cell_type": "code",
      "metadata": {
        "id": "pViJI3-TglN6",
        "outputId": "a961b58b-3446-4d9b-9479-f33fba8f4b63",
        "colab": {
          "base_uri": "https://localhost:8080/"
        }
      },
      "source": [
        "# training the model\n",
        "\n",
        "# passing the independent and dependent features for training set for training the model\n",
        "\n",
        "# validation data will be evaluated at the end of each epoch\n",
        "\n",
        "# setting the epochs as 50\n",
        "\n",
        "# storing the trained model in model_history variable which will be used to visualize the training process\n",
        "\n",
        "model_history = model.fit(X_train, y_train, validation_data=(X_test, y_test), epochs=50)"
      ],
      "execution_count": 41,
      "outputs": [
        {
          "output_type": "stream",
          "name": "stdout",
          "text": [
            "Epoch 1/50\n",
            "16/16 [==============================] - 3s 19ms/step - loss: 0.7630 - accuracy: 0.3646 - val_loss: 0.7361 - val_accuracy: 0.4553\n",
            "Epoch 2/50\n",
            "16/16 [==============================] - 0s 5ms/step - loss: 0.7173 - accuracy: 0.4847 - val_loss: 0.7035 - val_accuracy: 0.5610\n",
            "Epoch 3/50\n",
            "16/16 [==============================] - 0s 6ms/step - loss: 0.6946 - accuracy: 0.6008 - val_loss: 0.6902 - val_accuracy: 0.6016\n",
            "Epoch 4/50\n",
            "16/16 [==============================] - 0s 5ms/step - loss: 0.6855 - accuracy: 0.6640 - val_loss: 0.6836 - val_accuracy: 0.6748\n",
            "Epoch 5/50\n",
            "16/16 [==============================] - 0s 5ms/step - loss: 0.6807 - accuracy: 0.6823 - val_loss: 0.6797 - val_accuracy: 0.6748\n",
            "Epoch 6/50\n",
            "16/16 [==============================] - 0s 5ms/step - loss: 0.6770 - accuracy: 0.7006 - val_loss: 0.6763 - val_accuracy: 0.7073\n",
            "Epoch 7/50\n",
            "16/16 [==============================] - 0s 6ms/step - loss: 0.6718 - accuracy: 0.7169 - val_loss: 0.6679 - val_accuracy: 0.7236\n",
            "Epoch 8/50\n",
            "16/16 [==============================] - 0s 5ms/step - loss: 0.6590 - accuracy: 0.7271 - val_loss: 0.6502 - val_accuracy: 0.7236\n",
            "Epoch 9/50\n",
            "16/16 [==============================] - 0s 6ms/step - loss: 0.6416 - accuracy: 0.7230 - val_loss: 0.6314 - val_accuracy: 0.7236\n",
            "Epoch 10/50\n",
            "16/16 [==============================] - 0s 5ms/step - loss: 0.6269 - accuracy: 0.7230 - val_loss: 0.6175 - val_accuracy: 0.7154\n",
            "Epoch 11/50\n",
            "16/16 [==============================] - 0s 6ms/step - loss: 0.6155 - accuracy: 0.7169 - val_loss: 0.6079 - val_accuracy: 0.6992\n",
            "Epoch 12/50\n",
            "16/16 [==============================] - 0s 6ms/step - loss: 0.6075 - accuracy: 0.7149 - val_loss: 0.5991 - val_accuracy: 0.6992\n",
            "Epoch 13/50\n",
            "16/16 [==============================] - 0s 6ms/step - loss: 0.6008 - accuracy: 0.7149 - val_loss: 0.5924 - val_accuracy: 0.6992\n",
            "Epoch 14/50\n",
            "16/16 [==============================] - 0s 6ms/step - loss: 0.5950 - accuracy: 0.7149 - val_loss: 0.5862 - val_accuracy: 0.7073\n",
            "Epoch 15/50\n",
            "16/16 [==============================] - 0s 5ms/step - loss: 0.5894 - accuracy: 0.7169 - val_loss: 0.5821 - val_accuracy: 0.7073\n",
            "Epoch 16/50\n",
            "16/16 [==============================] - 0s 6ms/step - loss: 0.5849 - accuracy: 0.7210 - val_loss: 0.5767 - val_accuracy: 0.7073\n",
            "Epoch 17/50\n",
            "16/16 [==============================] - 0s 6ms/step - loss: 0.5808 - accuracy: 0.7230 - val_loss: 0.5728 - val_accuracy: 0.7073\n",
            "Epoch 18/50\n",
            "16/16 [==============================] - 0s 5ms/step - loss: 0.5769 - accuracy: 0.7230 - val_loss: 0.5684 - val_accuracy: 0.7073\n",
            "Epoch 19/50\n",
            "16/16 [==============================] - 0s 6ms/step - loss: 0.5733 - accuracy: 0.7230 - val_loss: 0.5624 - val_accuracy: 0.7317\n",
            "Epoch 20/50\n",
            "16/16 [==============================] - 0s 5ms/step - loss: 0.5687 - accuracy: 0.7291 - val_loss: 0.5575 - val_accuracy: 0.7317\n",
            "Epoch 21/50\n",
            "16/16 [==============================] - 0s 5ms/step - loss: 0.5637 - accuracy: 0.7312 - val_loss: 0.5505 - val_accuracy: 0.7561\n",
            "Epoch 22/50\n",
            "16/16 [==============================] - 0s 5ms/step - loss: 0.5579 - accuracy: 0.7393 - val_loss: 0.5434 - val_accuracy: 0.7642\n",
            "Epoch 23/50\n",
            "16/16 [==============================] - 0s 5ms/step - loss: 0.5497 - accuracy: 0.7434 - val_loss: 0.5361 - val_accuracy: 0.7642\n",
            "Epoch 24/50\n",
            "16/16 [==============================] - 0s 6ms/step - loss: 0.5407 - accuracy: 0.7597 - val_loss: 0.5288 - val_accuracy: 0.7724\n",
            "Epoch 25/50\n",
            "16/16 [==============================] - 0s 6ms/step - loss: 0.5322 - accuracy: 0.7760 - val_loss: 0.5224 - val_accuracy: 0.7805\n",
            "Epoch 26/50\n",
            "16/16 [==============================] - 0s 5ms/step - loss: 0.5242 - accuracy: 0.7780 - val_loss: 0.5140 - val_accuracy: 0.7886\n",
            "Epoch 27/50\n",
            "16/16 [==============================] - 0s 6ms/step - loss: 0.5161 - accuracy: 0.7821 - val_loss: 0.5068 - val_accuracy: 0.7967\n",
            "Epoch 28/50\n",
            "16/16 [==============================] - 0s 5ms/step - loss: 0.5096 - accuracy: 0.7923 - val_loss: 0.5008 - val_accuracy: 0.7967\n",
            "Epoch 29/50\n",
            "16/16 [==============================] - 0s 5ms/step - loss: 0.5049 - accuracy: 0.8024 - val_loss: 0.4964 - val_accuracy: 0.7967\n",
            "Epoch 30/50\n",
            "16/16 [==============================] - 0s 6ms/step - loss: 0.4996 - accuracy: 0.8065 - val_loss: 0.4928 - val_accuracy: 0.7967\n",
            "Epoch 31/50\n",
            "16/16 [==============================] - 0s 6ms/step - loss: 0.4950 - accuracy: 0.8086 - val_loss: 0.4895 - val_accuracy: 0.8049\n",
            "Epoch 32/50\n",
            "16/16 [==============================] - 0s 6ms/step - loss: 0.4914 - accuracy: 0.8065 - val_loss: 0.4865 - val_accuracy: 0.8049\n",
            "Epoch 33/50\n",
            "16/16 [==============================] - 0s 6ms/step - loss: 0.4885 - accuracy: 0.8086 - val_loss: 0.4837 - val_accuracy: 0.8049\n",
            "Epoch 34/50\n",
            "16/16 [==============================] - 0s 6ms/step - loss: 0.4841 - accuracy: 0.8106 - val_loss: 0.4815 - val_accuracy: 0.8130\n",
            "Epoch 35/50\n",
            "16/16 [==============================] - 0s 6ms/step - loss: 0.4815 - accuracy: 0.8106 - val_loss: 0.4798 - val_accuracy: 0.8130\n",
            "Epoch 36/50\n",
            "16/16 [==============================] - 0s 6ms/step - loss: 0.4795 - accuracy: 0.8106 - val_loss: 0.4781 - val_accuracy: 0.8130\n",
            "Epoch 37/50\n",
            "16/16 [==============================] - 0s 5ms/step - loss: 0.4775 - accuracy: 0.8106 - val_loss: 0.4766 - val_accuracy: 0.8130\n",
            "Epoch 38/50\n",
            "16/16 [==============================] - 0s 5ms/step - loss: 0.4759 - accuracy: 0.8106 - val_loss: 0.4760 - val_accuracy: 0.8130\n",
            "Epoch 39/50\n",
            "16/16 [==============================] - 0s 6ms/step - loss: 0.4742 - accuracy: 0.8106 - val_loss: 0.4749 - val_accuracy: 0.8130\n",
            "Epoch 40/50\n",
            "16/16 [==============================] - 0s 5ms/step - loss: 0.4724 - accuracy: 0.8106 - val_loss: 0.4752 - val_accuracy: 0.8130\n",
            "Epoch 41/50\n",
            "16/16 [==============================] - 0s 6ms/step - loss: 0.4711 - accuracy: 0.8106 - val_loss: 0.4745 - val_accuracy: 0.8130\n",
            "Epoch 42/50\n",
            "16/16 [==============================] - 0s 5ms/step - loss: 0.4702 - accuracy: 0.8106 - val_loss: 0.4737 - val_accuracy: 0.8130\n",
            "Epoch 43/50\n",
            "16/16 [==============================] - 0s 5ms/step - loss: 0.4700 - accuracy: 0.8106 - val_loss: 0.4736 - val_accuracy: 0.8130\n",
            "Epoch 44/50\n",
            "16/16 [==============================] - 0s 5ms/step - loss: 0.4691 - accuracy: 0.8126 - val_loss: 0.4746 - val_accuracy: 0.8130\n",
            "Epoch 45/50\n",
            "16/16 [==============================] - 0s 6ms/step - loss: 0.4673 - accuracy: 0.8106 - val_loss: 0.4738 - val_accuracy: 0.8130\n",
            "Epoch 46/50\n",
            "16/16 [==============================] - 0s 5ms/step - loss: 0.4674 - accuracy: 0.8126 - val_loss: 0.4737 - val_accuracy: 0.8130\n",
            "Epoch 47/50\n",
            "16/16 [==============================] - 0s 6ms/step - loss: 0.4656 - accuracy: 0.8126 - val_loss: 0.4736 - val_accuracy: 0.8130\n",
            "Epoch 48/50\n",
            "16/16 [==============================] - 0s 5ms/step - loss: 0.4653 - accuracy: 0.8126 - val_loss: 0.4731 - val_accuracy: 0.8130\n",
            "Epoch 49/50\n",
            "16/16 [==============================] - 0s 5ms/step - loss: 0.4645 - accuracy: 0.8126 - val_loss: 0.4738 - val_accuracy: 0.8130\n",
            "Epoch 50/50\n",
            "16/16 [==============================] - 0s 5ms/step - loss: 0.4638 - accuracy: 0.8126 - val_loss: 0.4740 - val_accuracy: 0.8130\n"
          ]
        }
      ]
    },
    {
      "cell_type": "markdown",
      "metadata": {
        "id": "hBZ_3aumglN9"
      },
      "source": [
        "## 6. Evaluating model performance on validation set\n",
        "\n",
        "---\n",
        "\n"
      ]
    },
    {
      "cell_type": "code",
      "metadata": {
        "id": "qpBoHi7jglN_",
        "colab": {
          "base_uri": "https://localhost:8080/"
        },
        "outputId": "71eee4e1-960d-43b8-c814-e9d3c7dd5af7"
      },
      "source": [
        "# getting predictions for the validation set\n",
        "\n",
        "#predict_x=model.predict(X_test)\n",
        "#print(predict_x) #for the X_test output\n",
        "#classes_x=np.argmax(predict_x,axis=1)\n",
        "predictions = (model.predict(X_test) > 0.5).astype(\"int32\")"
      ],
      "execution_count": 58,
      "outputs": [
        {
          "output_type": "stream",
          "name": "stdout",
          "text": [
            "4/4 [==============================] - 0s 2ms/step\n"
          ]
        }
      ]
    },
    {
      "cell_type": "code",
      "source": [
        "print(predict_x)\n",
        "print(\"\\n\",predictions)\n",
        "print(\"y_test \\n\", y_test)"
      ],
      "metadata": {
        "colab": {
          "base_uri": "https://localhost:8080/"
        },
        "id": "9zmQbID0rxwG",
        "outputId": "a0e2e07e-f220-4309-e611-fa5651720f34"
      },
      "execution_count": 63,
      "outputs": [
        {
          "output_type": "stream",
          "name": "stdout",
          "text": [
            "507    0.0\n",
            "493    1.0\n",
            "434    1.0\n",
            "125    1.0\n",
            "294    1.0\n",
            "      ... \n",
            "82     0.0\n",
            "295    1.0\n",
            "369    0.0\n",
            "450    0.0\n",
            "363    1.0\n",
            "Name: Loan_Status, Length: 123, dtype: float64\n"
          ]
        }
      ]
    },
    {
      "cell_type": "code",
      "metadata": {
        "id": "jMapdscmglOD",
        "outputId": "f7978a9a-68d6-4567-cb0e-e12712133e1f",
        "colab": {
          "base_uri": "https://localhost:8080/"
        }
      },
      "source": [
        "# calculating the accuracy on validation set\n",
        "#accuracy_score(y_test, classes_x) -->0.3089430894308943\n",
        "accuracy_score(y_test, classes_x) -->0.3089430894308943"
      ],
      "execution_count": 59,
      "outputs": [
        {
          "output_type": "execute_result",
          "data": {
            "text/plain": [
              "0.8130081300813008"
            ]
          },
          "metadata": {},
          "execution_count": 59
        }
      ]
    },
    {
      "cell_type": "markdown",
      "metadata": {
        "id": "rLvGzvLcglOH"
      },
      "source": [
        "### Visualizing the model performance"
      ]
    },
    {
      "cell_type": "code",
      "metadata": {
        "id": "68APv0UuglOI",
        "outputId": "88ea2cf6-89f6-44d4-b2e9-95e20ecfc5c1",
        "colab": {
          "base_uri": "https://localhost:8080/",
          "height": 472
        }
      },
      "source": [
        "# summarize history for loss\n",
        "plt.plot(model_history.history['loss'])\n",
        "plt.plot(model_history.history['val_loss'])\n",
        "plt.title('model loss')\n",
        "plt.ylabel('loss')\n",
        "plt.xlabel('epoch')\n",
        "plt.legend(['train', 'validation'], loc='upper left')\n",
        "plt.show()"
      ],
      "execution_count": 52,
      "outputs": [
        {
          "output_type": "display_data",
          "data": {
            "text/plain": [
              "<Figure size 640x480 with 1 Axes>"
            ],
            "image/png": "[encoded data removed]"
          },
          "metadata": {}
        }
      ]
    },
    {
      "cell_type": "code",
      "metadata": {
        "id": "AiKe0wBbglOM",
        "outputId": "f51624a7-bc47-4bff-b11a-6e375667d53e",
        "colab": {
          "base_uri": "https://localhost:8080/",
          "height": 472
        }
      },
      "source": [
        "# summarize history for accuracy\n",
        "plt.plot(model_history.history['accuracy'])\n",
        "plt.plot(model_history.history['val_accuracy'])\n",
        "plt.title('model accuracy')\n",
        "plt.ylabel('accuracy')\n",
        "plt.xlabel('epoch')\n",
        "plt.legend(['train', 'validation'], loc='upper left')\n",
        "plt.show()"
      ],
      "execution_count": 55,
      "outputs": [
        {
          "output_type": "display_data",
          "data": {
            "text/plain": [
              "<Figure size 640x480 with 1 Axes>"
            ],
            "image/png": "[encoded data removed]"
          },
          "metadata": {}
        }
      ]
    },
    {
      "cell_type": "code",
      "metadata": {
        "id": "tvVzU1Gwu7mb"
      },
      "source": [],
      "execution_count": null,
      "outputs": []
    }
  ]
}